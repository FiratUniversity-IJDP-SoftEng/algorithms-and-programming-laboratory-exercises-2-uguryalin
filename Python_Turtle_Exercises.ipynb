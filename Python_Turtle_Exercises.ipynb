{
  "cells": [
    {
      "cell_type": "markdown",
      "metadata": {
        "id": "ytbzyl3rnDRY"
      },
      "source": [
        "# Python Turtle Exercises\n",
        "\n",
        "This assignment aims to improve your algorithmic skills by drawing various geometric patterns using the Python Turtle library.  \n",
        "Each exercise includes a description and a code cell for your solutions.\n",
        "\n",
        "# Exercise 1: Drawing a Star\n",
        "## Description:\n",
        "Design an algorithm to draw a five-pointed star. Calculate the angle and line length correctly."
      ]
    },
    {
      "cell_type": "code",
      "execution_count": null,
      "metadata": {
        "id": "3uUSg4xJnUAw"
      },
      "outputs": [],
      "source": [
        "import turtle\n",
        "def draw_star(t, size):\n",
        "    t.pendown()\n",
        "    for _ in range(5):\n",
        "        t.forward(size)\n",
        "        t.right(144) \n",
        "def main():    \n",
        "    wn = turtle.Screen()   \n",
        "    star = turtle.Turtle()\n",
        "    star.speed(3)\n",
        "    star.pensize(2)\n",
        "    star.penup()\n",
        "    star.forward(100)\n",
        "    star.goto(-20, 20)\n",
        "    draw_star(star, 100)\n",
        "    star.hideturtle()\n",
        "    wn.mainloop()\n",
        "\n",
        "if __name__ == \"__main__\":\n",
        "    main()"
      ]
    },
    {
      "cell_type": "markdown",
      "metadata": {
        "id": "tGUI2TbgnZYu"
      },
      "source": [
        "# Exercise 2: Drawing a Spiral Square\n",
        "## Description:\n",
        "Design an algorithm to draw a spiral square with increasing side lengths. Consider how to change the turtle's turning angle and movement distance after each square."
      ]
    },
    {
      "cell_type": "code",
      "execution_count": null,
      "metadata": {
        "id": "UAinAy64neJ9"
      },
      "outputs": [],
      "source": [
        "import turtle\n",
        "\n",
        "def draw_spiral_square(t, initial_size, steps):\n",
        "    t.pendown()\n",
        "    size = initial_size\n",
        "\n",
        "    for i in range(steps):\n",
        "        for j in range(4):\n",
        "            t.forward(size)\n",
        "            t.right(90)\n",
        "\n",
        "        size += initial_size\n",
        "        t.penup()\n",
        "        t.backward(initial_size/2)\n",
        "        t.right(90)\n",
        "        t.backward(initial_size/2)\n",
        "        t.left(90)\n",
        "        t.pendown()\n",
        "\n",
        "def main():    \n",
        "    wn = turtle.Screen()   \n",
        "    spiral = turtle.Turtle()\n",
        "    spiral.speed(3)\n",
        "    spiral.pensize(2)\n",
        "    spiral.penup()\n",
        "    spiral.goto(-50, -50)\n",
        "    draw_spiral_square(spiral, 50, 6) \n",
        "    spiral.hideturtle()\n",
        "    wn.mainloop()\n",
        "\n",
        "if __name__ == \"__main__\":\n",
        "    main()"
      ]
    },
    {
      "cell_type": "markdown",
      "metadata": {
        "id": "9u3aYlazngbx"
      },
      "source": [
        "# Exercise 3: Drawing Nested Polygons\n",
        "## Description:\n",
        "Design an algorithm to draw nested polygons with the same center and number of sides. Consider how to adjust the size of each polygon and position the turtle while drawing."
      ]
    },
    {
      "cell_type": "code",
      "execution_count": null,
      "metadata": {
        "id": "GvJ5VlvJnoDz"
      },
      "outputs": [],
      "source": [
        "import turtle\n",
        "\n",
        "def draw_polygon(t, sides, size):\n",
        "    angle = 360 / sides\n",
        "    for i in range(sides):\n",
        "        t.forward(size)\n",
        "        t.right(angle)\n",
        "\n",
        "def draw_nested_polygons(t, sides, initial_size, num_polygons, size_decrease):\n",
        "    t.penup()\n",
        "    t.backward(initial_size/2)\n",
        "    t.right(90)\n",
        "    t.forward(initial_size/2)\n",
        "    t.left(90)\n",
        "\n",
        "    for i in range(num_polygons):\n",
        "        size = initial_size - (i * size_decrease)\n",
        "        if size <= 0:\n",
        "            break\n",
        "\n",
        "        t.pendown()\n",
        "        draw_polygon(t, sides, size)\n",
        "        t.penup()\n",
        "        t.forward(size_decrease/2)\n",
        "        t.right(90)\n",
        "        t.forward(size_decrease/2)\n",
        "        t.left(90)\n",
        "\n",
        "def main():\n",
        "    wn = turtle.Screen()\n",
        "    t = turtle.Turtle()\n",
        "    t.speed(5)\n",
        "    t.pensize(2)\n",
        "\n",
        "    sides = 15  \n",
        "    initial_size = 100  \n",
        "    num_polygons = 8  \n",
        "    size_decrease = 20 \n",
        "\n",
        "    draw_nested_polygons(t, sides, initial_size, num_polygons, size_decrease)\n",
        "\n",
        "    t.hideturtle()\n",
        "    wn.mainloop()\n",
        "\n",
        "if __name__ == \"__main__\":\n",
        "    main()"
      ]
    },
    {
      "cell_type": "markdown",
      "metadata": {
        "id": "w4S_F7XJnpYI"
      },
      "source": [
        "# Exercise 4: Drawing a Colorful Spiral\n",
        "## Description:\n",
        "Design an algorithm to draw a spiral using different colors. Consider how to change the color at each step and create the spiral shape."
      ]
    },
    {
      "cell_type": "code",
      "execution_count": null,
      "metadata": {
        "id": "e4KCcVxpnuUn"
      },
      "outputs": [],
      "source": [
        "import turtle\n",
        "import random\n",
        "\n",
        "def draw_shape(t, sides, size, color):\n",
        "    t.pencolor(color)\n",
        "    angle = 360 / sides\n",
        "    for _ in range(sides):\n",
        "        t.forward(size)\n",
        "        t.right(angle)\n",
        "\n",
        "def main():\n",
        "    wn = turtle.Screen()\n",
        "    t = turtle.Turtle()\n",
        "    t.speed(3)\n",
        "    t.pensize(2)\n",
        "\n",
        "    draw_shape(t, 4, 100, 'red')\n",
        "    t.penup()\n",
        "    t.forward(150)\n",
        "    t.pendown()\n",
        "    \n",
        "    draw_shape(t, 5, 80, 'yellow')\n",
        "    t.penup()\n",
        "    t.right(90)\n",
        "    t.forward(150)\n",
        "    t.pendown()\n",
        "\n",
        "    draw_shape(t, 6, 60, 'blue')\n",
        "    t.penup()\n",
        "    t.right(90)\n",
        "    t.forward(150)\n",
        "    t.pendown()\n",
        "\n",
        "    draw_shape(t, 8, 50, 'green')\n",
        "\n",
        "    t.hideturtle()\n",
        "    wn.mainloop()\n",
        "\n",
        "if __name__ == \"__main__\":\n",
        "    main()"
      ]
    },
    {
      "cell_type": "markdown",
      "metadata": {
        "id": "U4JZEptVn74m"
      },
      "source": [
        "# Exercise 5: Drawing a Random Pattern\n",
        "## Description:\n",
        "Design an algorithm to create an interesting pattern by randomly changing the turtle's movements and properties (color, thickness, etc.). Think about how to use randomness and vary different parameters."
      ]
    },
    {
      "cell_type": "code",
      "execution_count": null,
      "metadata": {
        "id": "4nk33NI8m9s1"
      },
      "outputs": [],
      "source": [
        "import turtle\n",
        "import random\n",
        "\n",
        "def random_color():\n",
        "    colors = ['red', 'purple', 'blue', 'green', 'orange', 'yellow']\n",
        "    return random.choice(colors)\n",
        "\n",
        "def draw_circle_pattern(t, size):\n",
        "    for _ in range(36):\n",
        "        t.pencolor(random_color())\n",
        "        t.circle(size)\n",
        "        t.right(10)\n",
        "\n",
        "def draw_mandala(t, size):\n",
        "    for _ in range(12):\n",
        "        t.pencolor(random_color())\n",
        "        t.pensize(2)\n",
        "\n",
        "        for _ in range(6):\n",
        "            t.forward(size)\n",
        "            t.backward(size)\n",
        "            t.right(60)\n",
        "\n",
        "        t.right(30)\n",
        "\n",
        "    draw_circle_pattern(t, size/2)\n",
        "\n",
        "def main():\n",
        "    wn = turtle.Screen()\n",
        "    wn.bgcolor('black')\n",
        "    t = turtle.Turtle()\n",
        "    t.speed(0)\n",
        "\n",
        "    t.penup()\n",
        "    t.goto(0, 0)\n",
        "    t.pendown()\n",
        "\n",
        "    draw_mandala(t, 100)\n",
        "\n",
        "    t.hideturtle()\n",
        "    wn.mainloop()\n",
        "\n",
        "if __name__ == \"__main__\":\n",
        "    main()"
      ]
    }
  ],
  "metadata": {
    "accelerator": "GPU",
    "colab": {
      "gpuType": "T4",
      "provenance": []
    },
    "kernelspec": {
      "display_name": "tensorflow",
      "language": "python",
      "name": "python3"
    },
    "language_info": {
      "codemirror_mode": {
        "name": "ipython",
        "version": 3
      },
      "file_extension": ".py",
      "mimetype": "text/x-python",
      "name": "python",
      "nbconvert_exporter": "python",
      "pygments_lexer": "ipython3",
      "version": "3.10.12"
    }
  },
  "nbformat": 4,
  "nbformat_minor": 0
}
